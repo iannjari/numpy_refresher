{
 "cells": [
  {
   "cell_type": "markdown",
   "id": "08695b09",
   "metadata": {},
   "source": [
    "### Import"
   ]
  },
  {
   "cell_type": "code",
   "execution_count": 2,
   "id": "cb072f87",
   "metadata": {},
   "outputs": [],
   "source": [
    "import numpy as np"
   ]
  },
  {
   "cell_type": "markdown",
   "id": "44f40849",
   "metadata": {},
   "source": [
    "### Basics"
   ]
  },
  {
   "cell_type": "code",
   "execution_count": 5,
   "id": "25c7ae9c",
   "metadata": {},
   "outputs": [
    {
     "data": {
      "text/plain": [
       "array([1, 2, 3])"
      ]
     },
     "execution_count": 5,
     "metadata": {},
     "output_type": "execute_result"
    }
   ],
   "source": [
    "simple_array=np.array([1,2,3])\n",
    "simple_array"
   ]
  },
  {
   "cell_type": "markdown",
   "id": "d3d04095",
   "metadata": {},
   "source": [
    "### 2D Array"
   ]
  },
  {
   "cell_type": "code",
   "execution_count": 9,
   "id": "25ad43b4",
   "metadata": {},
   "outputs": [
    {
     "name": "stdout",
     "output_type": "stream",
     "text": [
      "[[1.    2.4   4.2  ]\n",
      " [2.    3.6   7.778]]\n"
     ]
    }
   ],
   "source": [
    "two_d_arr=np.array([[1,2.4,4.2],[2,3.6,7.778]])\n",
    "print(two_d_arr)"
   ]
  },
  {
   "cell_type": "markdown",
   "id": "d07621b2",
   "metadata": {},
   "source": [
    "### Methods"
   ]
  },
  {
   "cell_type": "markdown",
   "id": "319a5358",
   "metadata": {},
   "source": [
    "#### Dimensions, shapes, sizes"
   ]
  },
  {
   "cell_type": "code",
   "execution_count": 10,
   "id": "f8640d1d",
   "metadata": {},
   "outputs": [
    {
     "name": "stdout",
     "output_type": "stream",
     "text": [
      "1\n",
      "2\n"
     ]
    }
   ],
   "source": [
    "print(simple_array.ndim)\n",
    "print(two_d_arr.ndim)"
   ]
  },
  {
   "cell_type": "code",
   "execution_count": 11,
   "id": "1383362e",
   "metadata": {},
   "outputs": [
    {
     "name": "stdout",
     "output_type": "stream",
     "text": [
      "(3,)\n",
      "(2, 3)\n"
     ]
    }
   ],
   "source": [
    "print(simple_array.shape)\n",
    "print(two_d_arr.shape)"
   ]
  },
  {
   "cell_type": "code",
   "execution_count": 19,
   "id": "d878ab83",
   "metadata": {},
   "outputs": [
    {
     "name": "stdout",
     "output_type": "stream",
     "text": [
      "3\n",
      "6\n"
     ]
    }
   ],
   "source": [
    "# Get size (number of elements)\n",
    "print(simple_array.size)\n",
    "print(two_d_arr.size)"
   ]
  },
  {
   "cell_type": "code",
   "execution_count": 20,
   "id": "abe72cc8",
   "metadata": {},
   "outputs": [
    {
     "name": "stdout",
     "output_type": "stream",
     "text": [
      "4\n",
      "8\n"
     ]
    }
   ],
   "source": [
    "#Size in bytes\n",
    "print(simple_array.itemsize)\n",
    "print(two_d_arr.itemsize)"
   ]
  },
  {
   "cell_type": "code",
   "execution_count": 21,
   "id": "97fd6a7a",
   "metadata": {},
   "outputs": [
    {
     "name": "stdout",
     "output_type": "stream",
     "text": [
      "12\n",
      "48\n"
     ]
    }
   ],
   "source": [
    "# Total Size\n",
    "print(simple_array.itemsize *simple_array.size)\n",
    "print(two_d_arr.itemsize * two_d_arr.size)"
   ]
  },
  {
   "cell_type": "code",
   "execution_count": 22,
   "id": "bedba994",
   "metadata": {},
   "outputs": [
    {
     "name": "stdout",
     "output_type": "stream",
     "text": [
      "12\n",
      "48\n"
     ]
    }
   ],
   "source": [
    "# Alternative for Total size is number of bytes\n",
    "print(simple_array.nbytes)\n",
    "print(two_d_arr.nbytes)"
   ]
  },
  {
   "cell_type": "markdown",
   "id": "a622c6e9",
   "metadata": {},
   "source": [
    "### Acessing,selecting, updating specific rows e.t.c"
   ]
  },
  {
   "cell_type": "code",
   "execution_count": 23,
   "id": "17ac17c1",
   "metadata": {},
   "outputs": [
    {
     "name": "stdout",
     "output_type": "stream",
     "text": [
      "[[ 1  2  5 12  7 16 88]\n",
      " [13 22 16 65 43 34  2]]\n"
     ]
    }
   ],
   "source": [
    "a= np.array([[1,2,5,12,7,16,88],[13,22,16,65,43,34,2]])\n",
    "print(a)"
   ]
  },
  {
   "cell_type": "code",
   "execution_count": 24,
   "id": "1aa277f5",
   "metadata": {},
   "outputs": [
    {
     "data": {
      "text/plain": [
       "34"
      ]
     },
     "execution_count": 24,
     "metadata": {},
     "output_type": "execute_result"
    }
   ],
   "source": [
    "# Getting specific elements using [row,col]\n",
    "a[1,5]"
   ]
  },
  {
   "cell_type": "code",
   "execution_count": 25,
   "id": "2f50d981",
   "metadata": {},
   "outputs": [
    {
     "data": {
      "text/plain": [
       "34"
      ]
     },
     "execution_count": 25,
     "metadata": {},
     "output_type": "execute_result"
    }
   ],
   "source": [
    "a[1,-2]"
   ]
  },
  {
   "cell_type": "code",
   "execution_count": 30,
   "id": "78d13024",
   "metadata": {},
   "outputs": [
    {
     "data": {
      "text/plain": [
       "array([ 1,  2,  5, 12,  7, 16, 88])"
      ]
     },
     "execution_count": 30,
     "metadata": {},
     "output_type": "execute_result"
    }
   ],
   "source": [
    "# Getting specific row\n",
    "a[0]"
   ]
  },
  {
   "cell_type": "code",
   "execution_count": 27,
   "id": "11f315b5",
   "metadata": {},
   "outputs": [
    {
     "data": {
      "text/plain": [
       "array([ 1,  2,  5, 12,  7, 16, 88])"
      ]
     },
     "execution_count": 27,
     "metadata": {},
     "output_type": "execute_result"
    }
   ],
   "source": [
    "a[0,:]"
   ]
  },
  {
   "cell_type": "code",
   "execution_count": 31,
   "id": "aa4381a8",
   "metadata": {},
   "outputs": [
    {
     "data": {
      "text/plain": [
       "array([12, 65])"
      ]
     },
     "execution_count": 31,
     "metadata": {},
     "output_type": "execute_result"
    }
   ],
   "source": [
    "# Getting specific column\n",
    "a[:,3]"
   ]
  },
  {
   "cell_type": "code",
   "execution_count": 34,
   "id": "09df7cc2",
   "metadata": {},
   "outputs": [
    {
     "data": {
      "text/plain": [
       "array([ 2, 12, 16])"
      ]
     },
     "execution_count": 34,
     "metadata": {},
     "output_type": "execute_result"
    }
   ],
   "source": [
    "# Using the [startitem:enditem:stepsize] notation\n",
    "# Get every other item from 2 to 16 in row 0,inclusive\n",
    "a[0,1:6:2]"
   ]
  },
  {
   "cell_type": "code",
   "execution_count": 35,
   "id": "88f86d5c",
   "metadata": {},
   "outputs": [
    {
     "name": "stdout",
     "output_type": "stream",
     "text": [
      "[[ 1  2  5 12  7 16 88]\n",
      " [13 22 16 65 43 34  2]]\n"
     ]
    }
   ],
   "source": [
    "print(a)"
   ]
  },
  {
   "cell_type": "code",
   "execution_count": 36,
   "id": "ec2ad7b1",
   "metadata": {},
   "outputs": [
    {
     "name": "stdout",
     "output_type": "stream",
     "text": [
      "[[ 1  2  5 12  7 16 88]\n",
      " [13 20 16 65 43 34  2]]\n"
     ]
    }
   ],
   "source": [
    "a[1,1]=20\n",
    "print(a)"
   ]
  },
  {
   "cell_type": "code",
   "execution_count": 37,
   "id": "287b3abc",
   "metadata": {},
   "outputs": [
    {
     "name": "stdout",
     "output_type": "stream",
     "text": [
      "[[ 1  2  5  0  7 16 88]\n",
      " [13 20 16  0 43 34  2]]\n"
     ]
    }
   ],
   "source": [
    "# Change entire column to one value\n",
    "a[:,3]=0\n",
    "print(a)"
   ]
  },
  {
   "cell_type": "code",
   "execution_count": 38,
   "id": "e1b14a2b",
   "metadata": {},
   "outputs": [
    {
     "name": "stdout",
     "output_type": "stream",
     "text": [
      "[[ 1  2  5  3  7 16 88]\n",
      " [13 20 16  2 43 34  2]]\n"
     ]
    }
   ],
   "source": [
    "# Change entire column to a list\n",
    "a[:,3]=[3,2]\n",
    "print(a)"
   ]
  },
  {
   "cell_type": "markdown",
   "id": "4084e7b2",
   "metadata": {},
   "source": [
    "##### 3D access example"
   ]
  },
  {
   "cell_type": "code",
   "execution_count": 40,
   "id": "39984b18",
   "metadata": {},
   "outputs": [
    {
     "name": "stdout",
     "output_type": "stream",
     "text": [
      "[[[  2   3   4]\n",
      "  [  6   8   7]]\n",
      "\n",
      " [[  6   8   7]\n",
      "  [ 23  33 564]]]\n"
     ]
    }
   ],
   "source": [
    "b=np.array([[[2,3,4],[6,8,7]],[[6,8,7],[23,33,564]]])\n",
    "print(b)"
   ]
  },
  {
   "cell_type": "code",
   "execution_count": 43,
   "id": "cf8fee6d",
   "metadata": {},
   "outputs": [
    {
     "data": {
      "text/plain": [
       "33"
      ]
     },
     "execution_count": 43,
     "metadata": {},
     "output_type": "execute_result"
    }
   ],
   "source": [
    "# Get 33 from b\n",
    "b[1,1,1]"
   ]
  },
  {
   "cell_type": "code",
   "execution_count": 45,
   "id": "a3abb900",
   "metadata": {},
   "outputs": [
    {
     "data": {
      "text/plain": [
       "4"
      ]
     },
     "execution_count": 45,
     "metadata": {},
     "output_type": "execute_result"
    }
   ],
   "source": [
    "# Get 4 from b\n",
    "b[0,0,2]"
   ]
  },
  {
   "cell_type": "code",
   "execution_count": 46,
   "id": "86b2cae8",
   "metadata": {},
   "outputs": [
    {
     "data": {
      "text/plain": [
       "array([ 8, 33])"
      ]
     },
     "execution_count": 46,
     "metadata": {},
     "output_type": "execute_result"
    }
   ],
   "source": [
    "# Get list from b\n",
    "b[:,1,1]"
   ]
  },
  {
   "cell_type": "code",
   "execution_count": 47,
   "id": "c3d66444",
   "metadata": {},
   "outputs": [
    {
     "data": {
      "text/plain": [
       "array([[[  2,   3,   4],\n",
       "        [  6,   4,   7]],\n",
       "\n",
       "       [[  6,   8,   7],\n",
       "        [ 23, 456, 564]]])"
      ]
     },
     "execution_count": 47,
     "metadata": {},
     "output_type": "execute_result"
    }
   ],
   "source": [
    "# Replace with list in b\n",
    "b[:,1,1]=[4,456]\n",
    "b"
   ]
  },
  {
   "cell_type": "code",
   "execution_count": 48,
   "id": "3839b642",
   "metadata": {},
   "outputs": [
    {
     "data": {
      "text/plain": [
       "array([[  3,   4],\n",
       "       [  8, 456]])"
      ]
     },
     "execution_count": 48,
     "metadata": {},
     "output_type": "execute_result"
    }
   ],
   "source": [
    "b[:,:,1]"
   ]
  },
  {
   "cell_type": "code",
   "execution_count": 49,
   "id": "9a2d3a8a",
   "metadata": {},
   "outputs": [
    {
     "data": {
      "text/plain": [
       "array([[[  2,   1,   4],\n",
       "        [  6,   1,   7]],\n",
       "\n",
       "       [[  6,   1,   7],\n",
       "        [ 23,   1, 564]]])"
      ]
     },
     "execution_count": 49,
     "metadata": {},
     "output_type": "execute_result"
    }
   ],
   "source": [
    "# Replace with nested list in b\n",
    "b[:,:,1]=[[1,1],[1,1]]\n",
    "b"
   ]
  }
 ],
 "metadata": {
  "kernelspec": {
   "display_name": "Python 3",
   "language": "python",
   "name": "python3"
  },
  "language_info": {
   "codemirror_mode": {
    "name": "ipython",
    "version": 3
   },
   "file_extension": ".py",
   "mimetype": "text/x-python",
   "name": "python",
   "nbconvert_exporter": "python",
   "pygments_lexer": "ipython3",
   "version": "3.8.5"
  }
 },
 "nbformat": 4,
 "nbformat_minor": 5
}
