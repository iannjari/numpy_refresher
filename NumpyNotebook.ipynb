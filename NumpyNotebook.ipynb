{
 "cells": [
  {
   "cell_type": "markdown",
   "id": "08695b09",
   "metadata": {},
   "source": [
    "### Import"
   ]
  },
  {
   "cell_type": "code",
   "execution_count": 1,
   "id": "cb072f87",
   "metadata": {},
   "outputs": [],
   "source": [
    "import numpy as np"
   ]
  },
  {
   "cell_type": "markdown",
   "id": "44f40849",
   "metadata": {},
   "source": [
    "### Basics"
   ]
  },
  {
   "cell_type": "code",
   "execution_count": 2,
   "id": "25c7ae9c",
   "metadata": {},
   "outputs": [
    {
     "data": {
      "text/plain": [
       "array([1, 2, 3])"
      ]
     },
     "execution_count": 2,
     "metadata": {},
     "output_type": "execute_result"
    }
   ],
   "source": [
    "simple_array=np.array([1,2,3])\n",
    "simple_array"
   ]
  },
  {
   "cell_type": "markdown",
   "id": "d3d04095",
   "metadata": {},
   "source": [
    "### 2D Array"
   ]
  },
  {
   "cell_type": "code",
   "execution_count": 3,
   "id": "25ad43b4",
   "metadata": {},
   "outputs": [
    {
     "name": "stdout",
     "output_type": "stream",
     "text": [
      "[[1.    2.4   4.2  ]\n",
      " [2.    3.6   7.778]]\n"
     ]
    }
   ],
   "source": [
    "two_d_arr=np.array([[1,2.4,4.2],[2,3.6,7.778]])\n",
    "print(two_d_arr)"
   ]
  },
  {
   "cell_type": "markdown",
   "id": "d07621b2",
   "metadata": {},
   "source": [
    "### Methods"
   ]
  },
  {
   "cell_type": "markdown",
   "id": "319a5358",
   "metadata": {},
   "source": [
    "#### Dimensions, shapes, sizes"
   ]
  },
  {
   "cell_type": "code",
   "execution_count": 4,
   "id": "f8640d1d",
   "metadata": {},
   "outputs": [
    {
     "name": "stdout",
     "output_type": "stream",
     "text": [
      "1\n",
      "2\n"
     ]
    }
   ],
   "source": [
    "print(simple_array.ndim)\n",
    "print(two_d_arr.ndim)"
   ]
  },
  {
   "cell_type": "code",
   "execution_count": 5,
   "id": "1383362e",
   "metadata": {},
   "outputs": [
    {
     "name": "stdout",
     "output_type": "stream",
     "text": [
      "(3,)\n",
      "(2, 3)\n"
     ]
    }
   ],
   "source": [
    "print(simple_array.shape)\n",
    "print(two_d_arr.shape)"
   ]
  },
  {
   "cell_type": "code",
   "execution_count": 6,
   "id": "d878ab83",
   "metadata": {},
   "outputs": [
    {
     "name": "stdout",
     "output_type": "stream",
     "text": [
      "3\n",
      "6\n"
     ]
    }
   ],
   "source": [
    "# Get size (number of elements)\n",
    "print(simple_array.size)\n",
    "print(two_d_arr.size)"
   ]
  },
  {
   "cell_type": "code",
   "execution_count": 7,
   "id": "abe72cc8",
   "metadata": {},
   "outputs": [
    {
     "name": "stdout",
     "output_type": "stream",
     "text": [
      "4\n",
      "8\n"
     ]
    }
   ],
   "source": [
    "#Size in bytes\n",
    "print(simple_array.itemsize)\n",
    "print(two_d_arr.itemsize)"
   ]
  },
  {
   "cell_type": "code",
   "execution_count": 8,
   "id": "97fd6a7a",
   "metadata": {},
   "outputs": [
    {
     "name": "stdout",
     "output_type": "stream",
     "text": [
      "12\n",
      "48\n"
     ]
    }
   ],
   "source": [
    "# Total Size\n",
    "print(simple_array.itemsize *simple_array.size)\n",
    "print(two_d_arr.itemsize * two_d_arr.size)"
   ]
  },
  {
   "cell_type": "code",
   "execution_count": 9,
   "id": "bedba994",
   "metadata": {},
   "outputs": [
    {
     "name": "stdout",
     "output_type": "stream",
     "text": [
      "12\n",
      "48\n"
     ]
    }
   ],
   "source": [
    "# Alternative for Total size is number of bytes\n",
    "print(simple_array.nbytes)\n",
    "print(two_d_arr.nbytes)"
   ]
  },
  {
   "cell_type": "markdown",
   "id": "a622c6e9",
   "metadata": {},
   "source": [
    "### Acessing,selecting, updating specific rows e.t.c"
   ]
  },
  {
   "cell_type": "code",
   "execution_count": 10,
   "id": "17ac17c1",
   "metadata": {},
   "outputs": [
    {
     "name": "stdout",
     "output_type": "stream",
     "text": [
      "[[ 1  2  5 12  7 16 88]\n",
      " [13 22 16 65 43 34  2]]\n"
     ]
    }
   ],
   "source": [
    "a= np.array([[1,2,5,12,7,16,88],[13,22,16,65,43,34,2]])\n",
    "print(a)"
   ]
  },
  {
   "cell_type": "code",
   "execution_count": 11,
   "id": "1aa277f5",
   "metadata": {},
   "outputs": [
    {
     "data": {
      "text/plain": [
       "34"
      ]
     },
     "execution_count": 11,
     "metadata": {},
     "output_type": "execute_result"
    }
   ],
   "source": [
    "# Getting specific elements using [row,col]\n",
    "a[1,5]"
   ]
  },
  {
   "cell_type": "code",
   "execution_count": 12,
   "id": "2f50d981",
   "metadata": {},
   "outputs": [
    {
     "data": {
      "text/plain": [
       "34"
      ]
     },
     "execution_count": 12,
     "metadata": {},
     "output_type": "execute_result"
    }
   ],
   "source": [
    "a[1,-2]"
   ]
  },
  {
   "cell_type": "code",
   "execution_count": 13,
   "id": "78d13024",
   "metadata": {},
   "outputs": [
    {
     "data": {
      "text/plain": [
       "array([ 1,  2,  5, 12,  7, 16, 88])"
      ]
     },
     "execution_count": 13,
     "metadata": {},
     "output_type": "execute_result"
    }
   ],
   "source": [
    "# Getting specific row\n",
    "a[0]"
   ]
  },
  {
   "cell_type": "code",
   "execution_count": 14,
   "id": "11f315b5",
   "metadata": {},
   "outputs": [
    {
     "data": {
      "text/plain": [
       "array([ 1,  2,  5, 12,  7, 16, 88])"
      ]
     },
     "execution_count": 14,
     "metadata": {},
     "output_type": "execute_result"
    }
   ],
   "source": [
    "a[0,:]"
   ]
  },
  {
   "cell_type": "code",
   "execution_count": 15,
   "id": "aa4381a8",
   "metadata": {},
   "outputs": [
    {
     "data": {
      "text/plain": [
       "array([12, 65])"
      ]
     },
     "execution_count": 15,
     "metadata": {},
     "output_type": "execute_result"
    }
   ],
   "source": [
    "# Getting specific column\n",
    "a[:,3]"
   ]
  },
  {
   "cell_type": "code",
   "execution_count": 16,
   "id": "09df7cc2",
   "metadata": {},
   "outputs": [
    {
     "data": {
      "text/plain": [
       "array([ 2, 12, 16])"
      ]
     },
     "execution_count": 16,
     "metadata": {},
     "output_type": "execute_result"
    }
   ],
   "source": [
    "# Using the [startitem:enditem:stepsize] notation\n",
    "# Get every other item from 2 to 16 in row 0,inclusive\n",
    "a[0,1:6:2]"
   ]
  },
  {
   "cell_type": "code",
   "execution_count": 17,
   "id": "88f86d5c",
   "metadata": {},
   "outputs": [
    {
     "name": "stdout",
     "output_type": "stream",
     "text": [
      "[[ 1  2  5 12  7 16 88]\n",
      " [13 22 16 65 43 34  2]]\n"
     ]
    }
   ],
   "source": [
    "print(a)"
   ]
  },
  {
   "cell_type": "code",
   "execution_count": 18,
   "id": "ec2ad7b1",
   "metadata": {},
   "outputs": [
    {
     "name": "stdout",
     "output_type": "stream",
     "text": [
      "[[ 1  2  5 12  7 16 88]\n",
      " [13 20 16 65 43 34  2]]\n"
     ]
    }
   ],
   "source": [
    "a[1,1]=20\n",
    "print(a)"
   ]
  },
  {
   "cell_type": "code",
   "execution_count": 19,
   "id": "287b3abc",
   "metadata": {},
   "outputs": [
    {
     "name": "stdout",
     "output_type": "stream",
     "text": [
      "[[ 1  2  5  0  7 16 88]\n",
      " [13 20 16  0 43 34  2]]\n"
     ]
    }
   ],
   "source": [
    "# Change entire column to one value\n",
    "a[:,3]=0\n",
    "print(a)"
   ]
  },
  {
   "cell_type": "code",
   "execution_count": 20,
   "id": "e1b14a2b",
   "metadata": {},
   "outputs": [
    {
     "name": "stdout",
     "output_type": "stream",
     "text": [
      "[[ 1  2  5  3  7 16 88]\n",
      " [13 20 16  2 43 34  2]]\n"
     ]
    }
   ],
   "source": [
    "# Change entire column to a list\n",
    "a[:,3]=[3,2]\n",
    "print(a)"
   ]
  },
  {
   "cell_type": "markdown",
   "id": "4084e7b2",
   "metadata": {},
   "source": [
    "##### 3D access example"
   ]
  },
  {
   "cell_type": "code",
   "execution_count": 21,
   "id": "39984b18",
   "metadata": {},
   "outputs": [
    {
     "name": "stdout",
     "output_type": "stream",
     "text": [
      "[[[  2   3   4]\n",
      "  [  6   8   7]]\n",
      "\n",
      " [[  6   8   7]\n",
      "  [ 23  33 564]]]\n"
     ]
    }
   ],
   "source": [
    "b=np.array([[[2,3,4],[6,8,7]],[[6,8,7],[23,33,564]]])\n",
    "print(b)"
   ]
  },
  {
   "cell_type": "code",
   "execution_count": 22,
   "id": "cf8fee6d",
   "metadata": {},
   "outputs": [
    {
     "data": {
      "text/plain": [
       "33"
      ]
     },
     "execution_count": 22,
     "metadata": {},
     "output_type": "execute_result"
    }
   ],
   "source": [
    "# Get 33 from b\n",
    "b[1,1,1]"
   ]
  },
  {
   "cell_type": "code",
   "execution_count": 23,
   "id": "a3abb900",
   "metadata": {},
   "outputs": [
    {
     "data": {
      "text/plain": [
       "4"
      ]
     },
     "execution_count": 23,
     "metadata": {},
     "output_type": "execute_result"
    }
   ],
   "source": [
    "# Get 4 from b\n",
    "b[0,0,2]"
   ]
  },
  {
   "cell_type": "code",
   "execution_count": 24,
   "id": "86b2cae8",
   "metadata": {},
   "outputs": [
    {
     "data": {
      "text/plain": [
       "array([ 8, 33])"
      ]
     },
     "execution_count": 24,
     "metadata": {},
     "output_type": "execute_result"
    }
   ],
   "source": [
    "# Get list from b\n",
    "b[:,1,1]"
   ]
  },
  {
   "cell_type": "code",
   "execution_count": 25,
   "id": "c3d66444",
   "metadata": {},
   "outputs": [
    {
     "data": {
      "text/plain": [
       "array([[[  2,   3,   4],\n",
       "        [  6,   4,   7]],\n",
       "\n",
       "       [[  6,   8,   7],\n",
       "        [ 23, 456, 564]]])"
      ]
     },
     "execution_count": 25,
     "metadata": {},
     "output_type": "execute_result"
    }
   ],
   "source": [
    "# Replace with list in b\n",
    "b[:,1,1]=[4,456]\n",
    "b"
   ]
  },
  {
   "cell_type": "code",
   "execution_count": 26,
   "id": "3839b642",
   "metadata": {},
   "outputs": [
    {
     "data": {
      "text/plain": [
       "array([[  3,   4],\n",
       "       [  8, 456]])"
      ]
     },
     "execution_count": 26,
     "metadata": {},
     "output_type": "execute_result"
    }
   ],
   "source": [
    "b[:,:,1]"
   ]
  },
  {
   "cell_type": "code",
   "execution_count": 28,
   "id": "9a2d3a8a",
   "metadata": {},
   "outputs": [
    {
     "data": {
      "text/plain": [
       "array([[[  2,   1,   4],\n",
       "        [  6,   1,   7]],\n",
       "\n",
       "       [[  6,   1,   7],\n",
       "        [ 23,   1, 564]]])"
      ]
     },
     "execution_count": 28,
     "metadata": {},
     "output_type": "execute_result"
    }
   ],
   "source": [
    "# Replace with nested list in b\n",
    "b[:,:,1]=[[1,1],[1,1]]\n",
    "b"
   ]
  },
  {
   "cell_type": "markdown",
   "id": "a89eaa6e",
   "metadata": {},
   "source": [
    "### Initialising different kinds of arrays"
   ]
  },
  {
   "cell_type": "code",
   "execution_count": 29,
   "id": "14ea1b24",
   "metadata": {},
   "outputs": [
    {
     "data": {
      "text/plain": [
       "array([0., 0., 0., 0., 0.])"
      ]
     },
     "execution_count": 29,
     "metadata": {},
     "output_type": "execute_result"
    }
   ],
   "source": [
    "# All zeros matrix\n",
    "c=np.zeros(5)\n",
    "c"
   ]
  },
  {
   "cell_type": "code",
   "execution_count": 33,
   "id": "f5f8cb0c",
   "metadata": {},
   "outputs": [
    {
     "data": {
      "text/plain": [
       "array([[[[0., 0.],\n",
       "         [0., 0.],\n",
       "         [0., 0.],\n",
       "         [0., 0.]],\n",
       "\n",
       "        [[0., 0.],\n",
       "         [0., 0.],\n",
       "         [0., 0.],\n",
       "         [0., 0.]],\n",
       "\n",
       "        [[0., 0.],\n",
       "         [0., 0.],\n",
       "         [0., 0.],\n",
       "         [0., 0.]]],\n",
       "\n",
       "\n",
       "       [[[0., 0.],\n",
       "         [0., 0.],\n",
       "         [0., 0.],\n",
       "         [0., 0.]],\n",
       "\n",
       "        [[0., 0.],\n",
       "         [0., 0.],\n",
       "         [0., 0.],\n",
       "         [0., 0.]],\n",
       "\n",
       "        [[0., 0.],\n",
       "         [0., 0.],\n",
       "         [0., 0.],\n",
       "         [0., 0.]]],\n",
       "\n",
       "\n",
       "       [[[0., 0.],\n",
       "         [0., 0.],\n",
       "         [0., 0.],\n",
       "         [0., 0.]],\n",
       "\n",
       "        [[0., 0.],\n",
       "         [0., 0.],\n",
       "         [0., 0.],\n",
       "         [0., 0.]],\n",
       "\n",
       "        [[0., 0.],\n",
       "         [0., 0.],\n",
       "         [0., 0.],\n",
       "         [0., 0.]]],\n",
       "\n",
       "\n",
       "       [[[0., 0.],\n",
       "         [0., 0.],\n",
       "         [0., 0.],\n",
       "         [0., 0.]],\n",
       "\n",
       "        [[0., 0.],\n",
       "         [0., 0.],\n",
       "         [0., 0.],\n",
       "         [0., 0.]],\n",
       "\n",
       "        [[0., 0.],\n",
       "         [0., 0.],\n",
       "         [0., 0.],\n",
       "         [0., 0.]]],\n",
       "\n",
       "\n",
       "       [[[0., 0.],\n",
       "         [0., 0.],\n",
       "         [0., 0.],\n",
       "         [0., 0.]],\n",
       "\n",
       "        [[0., 0.],\n",
       "         [0., 0.],\n",
       "         [0., 0.],\n",
       "         [0., 0.]],\n",
       "\n",
       "        [[0., 0.],\n",
       "         [0., 0.],\n",
       "         [0., 0.],\n",
       "         [0., 0.]]]])"
      ]
     },
     "execution_count": 33,
     "metadata": {},
     "output_type": "execute_result"
    }
   ],
   "source": [
    "# All zeros matrix multiple dimensions\n",
    "c2=np.zeros((5,3,4,2))\n",
    "c2"
   ]
  },
  {
   "cell_type": "code",
   "execution_count": 34,
   "id": "eab7fe54",
   "metadata": {},
   "outputs": [
    {
     "data": {
      "text/plain": [
       "array([[1., 1., 1.],\n",
       "       [1., 1., 1.]])"
      ]
     },
     "execution_count": 34,
     "metadata": {},
     "output_type": "execute_result"
    }
   ],
   "source": [
    "# All ones matrix\n",
    "c3=np.ones((2,3))\n",
    "c3"
   ]
  },
  {
   "cell_type": "code",
   "execution_count": 35,
   "id": "5633e2b5",
   "metadata": {},
   "outputs": [
    {
     "data": {
      "text/plain": [
       "array([[99, 99, 99],\n",
       "       [99, 99, 99]])"
      ]
     },
     "execution_count": 35,
     "metadata": {},
     "output_type": "execute_result"
    }
   ],
   "source": [
    "# Any other number matrix\n",
    "c4=np.full((2,3),99)\n",
    "c4"
   ]
  },
  {
   "cell_type": "code",
   "execution_count": 36,
   "id": "06ec47bb",
   "metadata": {},
   "outputs": [
    {
     "data": {
      "text/plain": [
       "array([[99, 99, 99, 99, 99, 99, 99],\n",
       "       [99, 99, 99, 99, 99, 99, 99]])"
      ]
     },
     "execution_count": 36,
     "metadata": {},
     "output_type": "execute_result"
    }
   ],
   "source": [
    "# Any other number matrix (full_like)\n",
    "c5=np.full_like(a,99)\n",
    "c5"
   ]
  },
  {
   "cell_type": "code",
   "execution_count": 37,
   "id": "c596314f",
   "metadata": {},
   "outputs": [
    {
     "data": {
      "text/plain": [
       "array([[99, 99, 99, 99, 99, 99, 99],\n",
       "       [99, 99, 99, 99, 99, 99, 99]])"
      ]
     },
     "execution_count": 37,
     "metadata": {},
     "output_type": "execute_result"
    }
   ],
   "source": [
    "# Any other number matrix (full_like)\n",
    "c6=np.full(a.shape,99)\n",
    "c6"
   ]
  },
  {
   "cell_type": "markdown",
   "id": "fd8cd377",
   "metadata": {},
   "source": [
    "##### Random"
   ]
  },
  {
   "cell_type": "code",
   "execution_count": 38,
   "id": "132e7772",
   "metadata": {},
   "outputs": [
    {
     "data": {
      "text/plain": [
       "array([[0.02781429, 0.64466308, 0.36680889],\n",
       "       [0.16693935, 0.42703875, 0.57928397]])"
      ]
     },
     "execution_count": 38,
     "metadata": {},
     "output_type": "execute_result"
    }
   ],
   "source": [
    "# Random decimals\n",
    "np.random.rand(2,3)"
   ]
  },
  {
   "cell_type": "code",
   "execution_count": 40,
   "id": "adf37228",
   "metadata": {},
   "outputs": [
    {
     "data": {
      "text/plain": [
       "array([[0.05953409, 0.8835227 , 0.27309488, 0.65738589, 0.19000625,\n",
       "        0.90092877, 0.11083326],\n",
       "       [0.66356897, 0.31946268, 0.36360045, 0.23860451, 0.92552842,\n",
       "        0.48435775, 0.00174476]])"
      ]
     },
     "execution_count": 40,
     "metadata": {},
     "output_type": "execute_result"
    }
   ],
   "source": [
    "np.random.random_sample(a.shape)"
   ]
  },
  {
   "cell_type": "code",
   "execution_count": 63,
   "id": "f1434cb4",
   "metadata": {},
   "outputs": [
    {
     "data": {
      "text/plain": [
       "array([[ 9,  6, 15],\n",
       "       [ 9, 14,  6]])"
      ]
     },
     "execution_count": 63,
     "metadata": {},
     "output_type": "execute_result"
    }
   ],
   "source": [
    "# Random integers\n",
    "np.random.randint(4,17,size=(2,3))"
   ]
  },
  {
   "cell_type": "markdown",
   "id": "28e7aa8a",
   "metadata": {},
   "source": [
    "##### Identity matrix"
   ]
  },
  {
   "cell_type": "code",
   "execution_count": 65,
   "id": "6f85c02a",
   "metadata": {},
   "outputs": [
    {
     "data": {
      "text/plain": [
       "array([[1., 0., 0.],\n",
       "       [0., 1., 0.],\n",
       "       [0., 0., 1.]])"
      ]
     },
     "execution_count": 65,
     "metadata": {},
     "output_type": "execute_result"
    }
   ],
   "source": [
    "np.identity(3)"
   ]
  },
  {
   "cell_type": "markdown",
   "id": "3cb897d3",
   "metadata": {},
   "source": [
    "##### Repeat an array\n"
   ]
  },
  {
   "cell_type": "code",
   "execution_count": 66,
   "id": "e809d3de",
   "metadata": {},
   "outputs": [
    {
     "data": {
      "text/plain": [
       "array([[2, 3, 4],\n",
       "       [2, 3, 4],\n",
       "       [2, 3, 4]])"
      ]
     },
     "execution_count": 66,
     "metadata": {},
     "output_type": "execute_result"
    }
   ],
   "source": [
    "d=np.array([[2,3,4]])\n",
    "d_repeat=np.repeat(d,3,axis=0)\n",
    "d_repeat"
   ]
  },
  {
   "cell_type": "code",
   "execution_count": 68,
   "id": "fab6531f",
   "metadata": {},
   "outputs": [
    {
     "data": {
      "text/plain": [
       "array([[2, 2, 2, 3, 3, 3, 4, 4, 4]])"
      ]
     },
     "execution_count": 68,
     "metadata": {},
     "output_type": "execute_result"
    }
   ],
   "source": [
    "d=np.array([[2,3,4]])\n",
    "d_repeat=np.repeat(d,3,axis=1)\n",
    "d_repeat"
   ]
  },
  {
   "cell_type": "markdown",
   "id": "8db8eef2",
   "metadata": {},
   "source": [
    "## Maths"
   ]
  },
  {
   "cell_type": "code",
   "execution_count": 80,
   "id": "3ef2c1ea",
   "metadata": {},
   "outputs": [
    {
     "name": "stdout",
     "output_type": "stream",
     "text": [
      "[ 1  2  5  3  7 16 88]\n",
      "[13 20 16  2 43 34  2]\n"
     ]
    }
   ],
   "source": [
    "e=a[0,:]\n",
    "f=a[1,:]\n",
    "print(e)\n",
    "print(f)"
   ]
  },
  {
   "cell_type": "code",
   "execution_count": 81,
   "id": "992e9870",
   "metadata": {},
   "outputs": [
    {
     "data": {
      "text/plain": [
       "array([ 3,  4,  7,  5,  9, 18, 90])"
      ]
     },
     "execution_count": 81,
     "metadata": {},
     "output_type": "execute_result"
    }
   ],
   "source": [
    "e+2"
   ]
  },
  {
   "cell_type": "code",
   "execution_count": 82,
   "id": "3068e7e1",
   "metadata": {},
   "outputs": [
    {
     "data": {
      "text/plain": [
       "array([  2,   4,  10,   6,  14,  32, 176])"
      ]
     },
     "execution_count": 82,
     "metadata": {},
     "output_type": "execute_result"
    }
   ],
   "source": [
    "e*2"
   ]
  },
  {
   "cell_type": "code",
   "execution_count": 83,
   "id": "6b76393c",
   "metadata": {},
   "outputs": [
    {
     "data": {
      "text/plain": [
       "array([14, 22, 21,  5, 50, 50, 90])"
      ]
     },
     "execution_count": 83,
     "metadata": {},
     "output_type": "execute_result"
    }
   ],
   "source": [
    "e+f"
   ]
  },
  {
   "cell_type": "code",
   "execution_count": 85,
   "id": "5da6bfea",
   "metadata": {},
   "outputs": [
    {
     "data": {
      "text/plain": [
       "array([ 13,  40,  80,   6, 301, 544, 176])"
      ]
     },
     "execution_count": 85,
     "metadata": {},
     "output_type": "execute_result"
    }
   ],
   "source": [
    "e*f"
   ]
  },
  {
   "cell_type": "code",
   "execution_count": 86,
   "id": "91a1561c",
   "metadata": {},
   "outputs": [
    {
     "data": {
      "text/plain": [
       "array([   1,    4,   25,    9,   49,  256, 7744], dtype=int32)"
      ]
     },
     "execution_count": 86,
     "metadata": {},
     "output_type": "execute_result"
    }
   ],
   "source": [
    "e**2"
   ]
  },
  {
   "cell_type": "code",
   "execution_count": 87,
   "id": "8ea12801",
   "metadata": {},
   "outputs": [
    {
     "data": {
      "text/plain": [
       "array([ 0.84147098,  0.90929743, -0.95892427,  0.14112001,  0.6569866 ,\n",
       "       -0.28790332,  0.0353983 ])"
      ]
     },
     "execution_count": 87,
     "metadata": {},
     "output_type": "execute_result"
    }
   ],
   "source": [
    "np.sin(e)"
   ]
  },
  {
   "cell_type": "markdown",
   "id": "c34378b2",
   "metadata": {},
   "source": [
    "## Linear Algebra"
   ]
  },
  {
   "cell_type": "code",
   "execution_count": 89,
   "id": "862bf1ee",
   "metadata": {},
   "outputs": [
    {
     "name": "stdout",
     "output_type": "stream",
     "text": [
      "[[1. 1.]\n",
      " [1. 1.]\n",
      " [1. 1.]]\n",
      "[[2 2 2]\n",
      " [2 2 2]]\n"
     ]
    },
    {
     "data": {
      "text/plain": [
       "array([[6., 6.],\n",
       "       [6., 6.]])"
      ]
     },
     "execution_count": 89,
     "metadata": {},
     "output_type": "execute_result"
    }
   ],
   "source": [
    "g=np.ones((3,2))\n",
    "print(g)\n",
    "\n",
    "h=np.full((2,3),2)\n",
    "print(h)\n",
    "\n",
    "np.matmul(h,g)"
   ]
  },
  {
   "cell_type": "code",
   "execution_count": 91,
   "id": "7bffcf50",
   "metadata": {},
   "outputs": [
    {
     "data": {
      "text/plain": [
       "1.0"
      ]
     },
     "execution_count": 91,
     "metadata": {},
     "output_type": "execute_result"
    }
   ],
   "source": [
    "# Determinant of a matrix\n",
    "i=np.identity(3)\n",
    "np.linalg.det(i)"
   ]
  },
  {
   "cell_type": "markdown",
   "id": "abb97952",
   "metadata": {},
   "source": [
    "### Statistics"
   ]
  },
  {
   "cell_type": "code",
   "execution_count": 93,
   "id": "487c752a",
   "metadata": {},
   "outputs": [
    {
     "name": "stdout",
     "output_type": "stream",
     "text": [
      "[ 1  2  5  3  7 16 88]\n"
     ]
    },
    {
     "data": {
      "text/plain": [
       "88"
      ]
     },
     "execution_count": 93,
     "metadata": {},
     "output_type": "execute_result"
    }
   ],
   "source": [
    "print(e)\n",
    "np.max(e)"
   ]
  },
  {
   "cell_type": "code",
   "execution_count": 103,
   "id": "76d055e0",
   "metadata": {},
   "outputs": [
    {
     "name": "stdout",
     "output_type": "stream",
     "text": [
      "[[2 1 4]\n",
      " [6 3 7]]\n",
      "Smallest element in b is 1\n",
      "Smallest element in each row of b is [1 3]\n"
     ]
    }
   ],
   "source": [
    "b= np.array([[2,1,4],[6,3,7]])\n",
    "print(b)\n",
    "print('Smallest element in b is', np.min(b))\n",
    "print('Smallest element in each row of b is',np.min(b,axis=1))"
   ]
  },
  {
   "cell_type": "code",
   "execution_count": 104,
   "id": "4acb7299",
   "metadata": {},
   "outputs": [
    {
     "data": {
      "text/plain": [
       "23"
      ]
     },
     "execution_count": 104,
     "metadata": {},
     "output_type": "execute_result"
    }
   ],
   "source": [
    "np.sum(b)"
   ]
  },
  {
   "cell_type": "code",
   "execution_count": 105,
   "id": "5997a0a5",
   "metadata": {},
   "outputs": [
    {
     "data": {
      "text/plain": [
       "array([ 8,  4, 11])"
      ]
     },
     "execution_count": 105,
     "metadata": {},
     "output_type": "execute_result"
    }
   ],
   "source": [
    "np.sum(b,axis=0)"
   ]
  },
  {
   "cell_type": "code",
   "execution_count": 106,
   "id": "1e8d31d1",
   "metadata": {},
   "outputs": [
    {
     "data": {
      "text/plain": [
       "array([ 7, 16])"
      ]
     },
     "execution_count": 106,
     "metadata": {},
     "output_type": "execute_result"
    }
   ],
   "source": [
    "np.sum(b,axis=1)"
   ]
  },
  {
   "cell_type": "markdown",
   "id": "970b097b",
   "metadata": {},
   "source": [
    "### Re-organising arrays"
   ]
  },
  {
   "cell_type": "code",
   "execution_count": 124,
   "id": "488d5f8d",
   "metadata": {},
   "outputs": [
    {
     "name": "stdout",
     "output_type": "stream",
     "text": [
      "b is in the shape (2, 4) \n",
      " in the shape (2,4) it becomes [[4 5 6 7]\n",
      " [4 9 4 5]] \n",
      " in the shape (8,1) it becomes [[4]\n",
      " [5]\n",
      " [6]\n",
      " [7]\n",
      " [4]\n",
      " [9]\n",
      " [4]\n",
      " [5]] \n",
      " in the shape (2,2,2) it becomes [[[4 5]\n",
      "  [6 7]]\n",
      "\n",
      " [[4 9]\n",
      "  [4 5]]]\n"
     ]
    }
   ],
   "source": [
    "before=np.array([[4,5,6,7],[4,9,4,5]])\n",
    "np.size(before)\n",
    "after1=before.reshape(2,4)\n",
    "after2=before.reshape(8,1)\n",
    "after3=before.reshape(2,2,2)\n",
    "print ('b is in the shape',before.shape,'\\n in the shape (2,4) it becomes',after1,\n",
    "       '\\n in the shape (8,1) it becomes',after2,\n",
    "       '\\n in the shape (2,2,2) it becomes',after3\n",
    "      )"
   ]
  },
  {
   "cell_type": "code",
   "execution_count": null,
   "id": "77ab4cf3",
   "metadata": {},
   "outputs": [],
   "source": []
  }
 ],
 "metadata": {
  "kernelspec": {
   "display_name": "Python 3",
   "language": "python",
   "name": "python3"
  },
  "language_info": {
   "codemirror_mode": {
    "name": "ipython",
    "version": 3
   },
   "file_extension": ".py",
   "mimetype": "text/x-python",
   "name": "python",
   "nbconvert_exporter": "python",
   "pygments_lexer": "ipython3",
   "version": "3.8.5"
  }
 },
 "nbformat": 4,
 "nbformat_minor": 5
}
