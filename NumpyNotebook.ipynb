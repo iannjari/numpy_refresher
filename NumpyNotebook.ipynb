{
 "cells": [
  {
   "cell_type": "markdown",
   "id": "91739111",
   "metadata": {},
   "source": [
    "### Import"
   ]
  },
  {
   "cell_type": "code",
   "execution_count": 2,
   "id": "9d25a3ca",
   "metadata": {},
   "outputs": [],
   "source": [
    "import numpy as np"
   ]
  },
  {
   "cell_type": "markdown",
   "id": "0a180d56",
   "metadata": {},
   "source": [
    "### Basics"
   ]
  },
  {
   "cell_type": "code",
   "execution_count": 5,
   "id": "55fee57c",
   "metadata": {},
   "outputs": [
    {
     "data": {
      "text/plain": [
       "array([1, 2, 3])"
      ]
     },
     "execution_count": 5,
     "metadata": {},
     "output_type": "execute_result"
    }
   ],
   "source": [
    "simple_array=np.array([1,2,3])\n",
    "simple_array"
   ]
  },
  {
   "cell_type": "markdown",
   "id": "da667222",
   "metadata": {},
   "source": [
    "### 2D Array"
   ]
  },
  {
   "cell_type": "code",
   "execution_count": 9,
   "id": "74268843",
   "metadata": {},
   "outputs": [
    {
     "name": "stdout",
     "output_type": "stream",
     "text": [
      "[[1.    2.4   4.2  ]\n",
      " [2.    3.6   7.778]]\n"
     ]
    }
   ],
   "source": [
    "two_d_arr=np.array([[1,2.4,4.2],[2,3.6,7.778]])\n",
    "print(two_d_arr)"
   ]
  },
  {
   "cell_type": "code",
   "execution_count": null,
   "id": "7ac3a902",
   "metadata": {},
   "outputs": [],
   "source": []
  }
 ],
 "metadata": {
  "kernelspec": {
   "display_name": "Python 3",
   "language": "python",
   "name": "python3"
  },
  "language_info": {
   "codemirror_mode": {
    "name": "ipython",
    "version": 3
   },
   "file_extension": ".py",
   "mimetype": "text/x-python",
   "name": "python",
   "nbconvert_exporter": "python",
   "pygments_lexer": "ipython3",
   "version": "3.8.5"
  }
 },
 "nbformat": 4,
 "nbformat_minor": 5
}
